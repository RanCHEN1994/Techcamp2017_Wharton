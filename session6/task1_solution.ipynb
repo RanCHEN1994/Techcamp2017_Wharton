{
 "cells": [
  {
   "cell_type": "markdown",
   "metadata": {},
   "source": [
    "# Exercises 6, Task 1: Sample Solution"
   ]
  },
  {
   "cell_type": "code",
   "execution_count": 43,
   "metadata": {
    "collapsed": true
   },
   "outputs": [],
   "source": [
    "from pyquery import PyQuery as PQ\n",
    "pq = PQ(url=\"https://brickset.com/sets/30496-1/U-Wing-Fighter\")"
   ]
  },
  {
   "cell_type": "code",
   "execution_count": 76,
   "metadata": {
    "collapsed": false
   },
   "outputs": [
    {
     "data": {
      "text/plain": [
       "{'Age range': '6 - 12',\n",
       " 'Current value': 'New: ~$3 Used: ~$4',\n",
       " 'Name': 'U-Wing Fighter',\n",
       " 'Notes': '[US] Available in Walmart, May 2017. [NO] Free with Donald Duck and Co. comic, May 2017. [BE] Free with qualifying spend in Maxi Toys, June 2016.',\n",
       " 'Packaging': 'Polybag',\n",
       " 'Pieces': '55',\n",
       " 'Price per piece': '7.3c',\n",
       " 'RRP': '$3.99',\n",
       " 'Rating': 'Not yet reviewed',\n",
       " 'Set number': '30496-1',\n",
       " 'Set type': 'Normal',\n",
       " 'Subtheme': 'Rogue One',\n",
       " 'Tags': 'Polybag Rebellion',\n",
       " 'Theme': 'Star Wars',\n",
       " 'Theme group': 'Licensed',\n",
       " 'Year released': '2017'}"
      ]
     },
     "execution_count": 76,
     "metadata": {},
     "output_type": "execute_result"
    }
   ],
   "source": [
    "# Using List Comprehensions\n",
    "fb = pq(\".featurebox .text dl\")[0]\n",
    "dts = [ PQ(el).text() for el in  PQ(fb).children(\"dt\") ]\n",
    "dds = [ PQ(el).text() for el in  PQ(fb).children(\"dd\") ]\n",
    "data = dict(zip(dts, dds))\n",
    "data"
   ]
  },
  {
   "cell_type": "code",
   "execution_count": 77,
   "metadata": {
    "collapsed": false
   },
   "outputs": [
    {
     "data": {
      "text/plain": [
       "{'Age range': '6 - 12',\n",
       " 'Current value': 'New: ~$3 Used: ~$4',\n",
       " 'Name': 'U-Wing Fighter',\n",
       " 'Notes': '[US] Available in Walmart, May 2017. [NO] Free with Donald Duck and Co. comic, May 2017. [BE] Free with qualifying spend in Maxi Toys, June 2016.',\n",
       " 'Packaging': 'Polybag',\n",
       " 'Pieces': '55',\n",
       " 'Price per piece': '7.3c',\n",
       " 'RRP': '$3.99',\n",
       " 'Rating': 'Not yet reviewed',\n",
       " 'Set number': '30496-1',\n",
       " 'Set type': 'Normal',\n",
       " 'Subtheme': 'Rogue One',\n",
       " 'Tags': 'Polybag Rebellion',\n",
       " 'Theme': 'Star Wars',\n",
       " 'Theme group': 'Licensed',\n",
       " 'Year released': '2017'}"
      ]
     },
     "execution_count": 77,
     "metadata": {},
     "output_type": "execute_result"
    }
   ],
   "source": [
    "# Using for loop\n",
    "fb = pq(\".featurebox .text dl\")[0]\n",
    "dts = PQ(fb).children(\"dt\") \n",
    "dds = PQ(fb).children(\"dd\")\n",
    "table = list(zip(dts, dds))\n",
    "\n",
    "data = {}\n",
    "for k,v in table:\n",
    "    key = PQ(k).text()\n",
    "    value = PQ(v).text()\n",
    "    data[key] = value\n",
    "data"
   ]
  },
  {
   "cell_type": "code",
   "execution_count": null,
   "metadata": {
    "collapsed": false
   },
   "outputs": [],
   "source": []
  },
  {
   "cell_type": "code",
   "execution_count": null,
   "metadata": {
    "collapsed": true
   },
   "outputs": [],
   "source": []
  }
 ],
 "metadata": {
  "kernelspec": {
   "display_name": "Python 3",
   "language": "python",
   "name": "python3"
  },
  "language_info": {
   "codemirror_mode": {
    "name": "ipython",
    "version": 3
   },
   "file_extension": ".py",
   "mimetype": "text/x-python",
   "name": "python",
   "nbconvert_exporter": "python",
   "pygments_lexer": "ipython3",
   "version": "3.5.2"
  }
 },
 "nbformat": 4,
 "nbformat_minor": 1
}
