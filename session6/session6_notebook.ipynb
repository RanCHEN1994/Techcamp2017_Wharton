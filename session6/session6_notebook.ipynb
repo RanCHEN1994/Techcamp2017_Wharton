{
 "cells": [
  {
   "cell_type": "markdown",
   "metadata": {
    "collapsed": true
   },
   "source": [
    "# Session 6"
   ]
  },
  {
   "cell_type": "code",
   "execution_count": 15,
   "metadata": {
    "collapsed": false
   },
   "outputs": [
    {
     "data": {
      "text/plain": [
       "{'Accept': '*/*', 'User-Agent': 'python-requests/2.9.1', 'Accept-Encoding': 'gzip, deflate', 'Connection': 'keep-alive'}"
      ]
     },
     "execution_count": 15,
     "metadata": {},
     "output_type": "execute_result"
    }
   ],
   "source": [
    "import requests\n",
    "requests.utils.default_headers()"
   ]
  },
  {
   "cell_type": "code",
   "execution_count": null,
   "metadata": {
    "collapsed": true
   },
   "outputs": [],
   "source": [
    "# User-agent spoofing\n",
    "url = \"http://www.wikipedia.org\"\n",
    "spoofed_ua = \"Mozilla/4.0 (compatible; MSIE 6.0; Windows NT 5.1; FSL 7.0.6.01001)\"\n",
    "r = requests.get(url, headers={\"User-Agent\": spoofed_ua})"
   ]
  },
  {
   "cell_type": "code",
   "execution_count": 20,
   "metadata": {
    "collapsed": false
   },
   "outputs": [],
   "source": [
    "s = \"\"\"\n",
    "aaa\n",
    "bbb\n",
    "ccc\n",
    "ZZZ\n",
    "ddd\n",
    "123\n",
    "abc\n",
    "444\n",
    "\"\"\""
   ]
  },
  {
   "cell_type": "code",
   "execution_count": 25,
   "metadata": {
    "collapsed": false
   },
   "outputs": [
    {
     "data": {
      "text/plain": [
       "<_sre.SRE_Match object; span=(1, 4), match='aaa'>"
      ]
     },
     "execution_count": 25,
     "metadata": {},
     "output_type": "execute_result"
    }
   ],
   "source": [
    "import re\n",
    "# Find a single match\n",
    "pattern = re.compile(r'(\\b[a-z]{3}\\b)')\n",
    "match = re.search(pattern, s)\n",
    "match"
   ]
  },
  {
   "cell_type": "code",
   "execution_count": 28,
   "metadata": {
    "collapsed": false
   },
   "outputs": [
    {
     "data": {
      "text/plain": [
       "[('aaa', 'a', ''),\n",
       " ('bbb', 'b', ''),\n",
       " ('ccc', 'c', ''),\n",
       " ('ddd', 'd', ''),\n",
       " ('abc', 'c', '')]"
      ]
     },
     "execution_count": 28,
     "metadata": {},
     "output_type": "execute_result"
    }
   ],
   "source": [
    "# Find all matches\n",
    "# Notice difference when moving ()\n",
    "pattern = re.compile(r'(\\b([a-z]){3}(\\b))')\n",
    "matches = re.findall(pattern, s)\n",
    "matches"
   ]
  },
  {
   "cell_type": "code",
   "execution_count": 29,
   "metadata": {
    "collapsed": false
   },
   "outputs": [
    {
     "data": {
      "text/plain": [
       "[('aaa', 'a'), ('bbb', 'b'), ('ccc', 'c'), ('ddd', 'd')]"
      ]
     },
     "execution_count": 29,
     "metadata": {},
     "output_type": "execute_result"
    }
   ],
   "source": [
    "pattern =  re.compile(r'(([a-z])\\2+)')\n",
    "matches = re.findall(pattern, s)\n",
    "matches"
   ]
  },
  {
   "cell_type": "code",
   "execution_count": 41,
   "metadata": {
    "collapsed": false
   },
   "outputs": [
    {
     "name": "stdout",
     "output_type": "stream",
     "text": [
      "123444\n"
     ]
    }
   ],
   "source": [
    "# Remove all non-numeric characters\n",
    "print(re.sub('[^0-9]', '', s))"
   ]
  },
  {
   "cell_type": "code",
   "execution_count": 37,
   "metadata": {
    "collapsed": true
   },
   "outputs": [],
   "source": [
    "string = \"\"\"\n",
    "PARTICIPANTS:\n",
    "Senator Ted Cruz (TX);\n",
    "Governor John Kasich (OH);\n",
    "Senator Marco Rubio (FL);\n",
    "Donald Trump;\n",
    "MODERATORS:\n",
    "Bret Baier (Fox News);\n",
    "Megyn Kelly (Fox News); and \n",
    "Chris Wallace (Fox News)\n",
    "\n",
    "KELLY: Good evening, and welcome to the fabulous FOX Theatre in downtown Detroit, the site of the 11th Republican presidential debate of the 2016 campaign.\n",
    "\n",
    "I'm Megyn Kelly, along with my co-moderators, Bret Baier and Chris Wallace.\n",
    "\n",
    "BAIER: 59 Republican delegates are at stake here in the state of Michigan during next Tuesday's Republican primary, the biggest prize out of four states holding contests that day. For tonight's debate we're partnering with Facebook. The conversation about this election has been intense, as the crowd is here.\n",
    "\n",
    "Since January 1st, 53 million people in the U.S. have been talking about the election on Facebook.\n",
    "\n",
    "WALLACE: Tonight there are just four candidates on this stage. Their position has been determined by their standing in an average of the five most recent national polls as recognized by FOX News, and conducted and released by March 1st. Here they are. [cheering and applause]\n",
    "\n",
    "Texas Senator, Ted Cruz. [cheering and applause]\n",
    "\n",
    "Florida Senator, Marco Rubio. [cheering and applause]\n",
    "\n",
    "And, Ohio Governor, John Kasich. [cheering and applause]\n",
    "\n",
    "KELLY: Tonight's rules are simple. Up to 60 seconds for each answer, 30 seconds for each follow-up response, and if a candidate goes over the allotted time, you will hear this. [bell ringing]\n",
    "\n",
    "BAIER: So pleasant.\n",
    "\n",
    "KELLY: Really.\n",
    "\n",
    "BAIER: We have a big crowd here, and while we expect the audience to be enthusiastic and responsive at times...[cheering and applause]... they may have already been — we also expect them to be respectful, and we want the candidates to get their full time. So, somewhere between a library and a Red Wings game. [laughter and cheering]\n",
    "\n",
    "Am I right? Is that OK?\n",
    "\n",
    "Let's get started.\n",
    "\n",
    "WALLACE: Mr. Trump, as you may have heard, the 2012 Republican nominee for President, Mitt Romney, had some things to say about you today.\n",
    "\n",
    "He said your domestic policy will lead to recession, he's said your foreign policy will make us less safe, and then he listed what he said are your personal qualities. Quoting now Romney on Trump, quote, \"the bullying, the greed, the showing off, the misogyny, the absurd, third-grade theatrics\". [cheering]\n",
    "\n",
    "He challenged you to answer with substance, not insults. How do you answer Mitt Romney, sir?\n",
    "\n",
    "TRUMP: Well look, he was a failed candidate, he should have beaten president Obama very easy.\n",
    "\n",
    "He failed miserably, and it was an embarrassment to everybody, including the Republican party. It looked like he went away on a vacation the last month. So, I don't take that, and I guess, obviously, he wants to be relevant. He wants to be back in the game.\n",
    "\n",
    "As far as domestic policy and trade which is killing our country, he said free trade and I believe in free trade also. But, if you look at China, and you look Japan, and if you look at Mexico, both at the border, by the way, where they're killing us.\n",
    "\n",
    "Both at the border, and with trade — and every other country we do business with we are getting absolutely crushed on trade. And, he said free trade, I say free trade great. But, not when they're beating us so badly.\n",
    "\n",
    "With China we're going to lose $505 billion dollars in terms of trades. You just can't do it.\n",
    "\n",
    "Mexico, $58 billion dollars.\n",
    "\n",
    "Japan, probably about, they don't know it yet, but about $109 billion dollars.\n",
    "\n",
    "Every country we lose money with. As far as I'm concerned, we've got to reduce — we have to redo our trade deals 100 percent. I have the greatest business people in the world lined up to do it. We will make...[bell ringing]... great trade deals. [cheering]\n",
    "\n",
    "WALLACE: Mr. Trump, Romney also talked about your position on race, and the controversy over your failure to denounce David Duke on Sunday. You have repeatedly disavowed him since then, but I'd like to go deeper than that. What are your views on the Klu Klux Klan, and white supremacists?\n",
    "\n",
    "TRUMP: I totally disavow the Klu Klux Klan. I totally disavow David Duke. I've been doing it now for two weeks, this is your — you're probably about the 18th person that's asked me the question. It was very clear, that question was also talked about in the form of groups. Groups, I want to know which groups are you talking about? You have to tell me which groups?\n",
    "\n",
    "Ultimately, he got to the Klu Klux Klan, which obviously I'm going to disavow. And, by the way, if you look on my Twitter account, almost immediately after the program they were disavowed again.\n",
    "\n",
    "You know, it's amazing. When I do something on Twitter, everybody picks it up, goes all over the place. But, when I did this one nobody ever picks it up. Take a look at my Twitter account.\n",
    "\n",
    "WALLACE: Thank you, sir.\n",
    "\n",
    "TRUMP: Thank you. Thanks. [applause]\n",
    "\n",
    "BAIER: Senator Rubio, three weeks ago you said, quote: \"I don't do the personal attacks, primarily because it's not who I am, because I think it's beneath the office that I'm seeking but also because I don't want to embarrass my kids.\"\n",
    "\n",
    "But in the past week you've mocked Mr. Trump's tan. You've made fun of his spelling. You called him a con artist. You suggested he wet himself backstage at the last debate, along with other vulgar jokes and jabs. So what happened?\n",
    "\n",
    "RUBIO: Yes, you know, Bret, let me say something. This campaign for the last year Donald Trump has basically mocked everybody with personal attacks. He has done so to people that are sitting on the stage today. He has done so about people that are disabled. He has done it about every candidate in this race.\n",
    "\n",
    "So if there is anyone who has ever deserved to be attacked that way, it has been Donald Trump, for the way he has treated people in the campaign.\n",
    "\n",
    "Now that said, I would much prefer to have a policy debate. I hope that's what we will have here tonight. Let's have a policy debate...\n",
    "\n",
    "TRUMP: And we will.\n",
    "\n",
    "RUBIO: ... let's talk about Donald Trump's strategy and my strategy and Ted's strategy and John Kasich's strategy when it comes to ISIS. And on health care and on the important issues facing this country.\n",
    "\n",
    "But let's be honest too about all this. The media has given these personal attacks that Donald Trump has made an incredible amount of coverage. Let's start talking again about the issues that matter to this country. I'm ready to do that starting right here right now tonight.\n",
    "\n",
    "BAIER: Mr. Trump, your response?\n",
    "\"\"\""
   ]
  },
  {
   "cell_type": "code",
   "execution_count": 42,
   "metadata": {
    "collapsed": false
   },
   "outputs": [
    {
     "data": {
      "text/plain": [
       "[('PARTICIPANTS:\\nSenator Ted Cruz (TX);\\nGovernor John Kasich (OH);\\nSenator Marco Rubio (FL);\\nDonald Trump;\\n',\n",
       "  '\\n'),\n",
       " ('MODERATORS:\\nBret Baier (Fox News);\\nMegyn Kelly (Fox News); and \\nChris Wallace (Fox News)\\n\\n',\n",
       "  '\\n'),\n",
       " (\"KELLY: Good evening, and welcome to the fabulous FOX Theatre in downtown Detroit, the site of the 11th Republican presidential debate of the 2016 campaign.\\n\\nI'm Megyn Kelly, along with my co-moderators, Bret Baier and Chris Wallace.\\n\\n\",\n",
       "  '\\n'),\n",
       " (\"BAIER: 59 Republican delegates are at stake here in the state of Michigan during next Tuesday's Republican primary, the biggest prize out of four states holding contests that day. For tonight's debate we're partnering with Facebook. The conversation about this election has been intense, as the crowd is here.\\n\\nSince January 1st, 53 million people in the U.S. have been talking about the election on Facebook.\\n\\n\",\n",
       "  '\\n'),\n",
       " ('WALLACE: Tonight there are just four candidates on this stage. Their position has been determined by their standing in an average of the five most recent national polls as recognized by FOX News, and conducted and released by March 1st. Here they are. [cheering and applause]\\n\\nTexas Senator, Ted Cruz. [cheering and applause]\\n\\nFlorida Senator, Marco Rubio. [cheering and applause]\\n\\nAnd, Ohio Governor, John Kasich. [cheering and applause]\\n\\n',\n",
       "  '\\n'),\n",
       " (\"KELLY: Tonight's rules are simple. Up to 60 seconds for each answer, 30 seconds for each follow-up response, and if a candidate goes over the allotted time, you will hear this. [bell ringing]\\n\\n\",\n",
       "  '\\n'),\n",
       " ('BAIER: So pleasant.\\n\\n', '\\n'),\n",
       " ('KELLY: Really.\\n\\n', '\\n'),\n",
       " (\"BAIER: We have a big crowd here, and while we expect the audience to be enthusiastic and responsive at times...[cheering and applause]... they may have already been — we also expect them to be respectful, and we want the candidates to get their full time. So, somewhere between a library and a Red Wings game. [laughter and cheering]\\n\\nAm I right? Is that OK?\\n\\nLet's get started.\\n\\n\",\n",
       "  '\\n'),\n",
       " ('WALLACE: Mr. Trump, as you may have heard, the 2012 Republican nominee for President, Mitt Romney, had some things to say about you today.\\n\\nHe said your domestic policy will lead to recession, he\\'s said your foreign policy will make us less safe, and then he listed what he said are your personal qualities. Quoting now Romney on Trump, quote, \"the bullying, the greed, the showing off, the misogyny, the absurd, third-grade theatrics\". [cheering]\\n\\nHe challenged you to answer with substance, not insults. How do you answer Mitt Romney, sir?\\n\\n',\n",
       "  '\\n'),\n",
       " (\"TRUMP: Well look, he was a failed candidate, he should have beaten president Obama very easy.\\n\\nHe failed miserably, and it was an embarrassment to everybody, including the Republican party. It looked like he went away on a vacation the last month. So, I don't take that, and I guess, obviously, he wants to be relevant. He wants to be back in the game.\\n\\nAs far as domestic policy and trade which is killing our country, he said free trade and I believe in free trade also. But, if you look at China, and you look Japan, and if you look at Mexico, both at the border, by the way, where they're killing us.\\n\\nBoth at the border, and with trade — and every other country we do business with we are getting absolutely crushed on trade. And, he said free trade, I say free trade great. But, not when they're beating us so badly.\\n\\nWith China we're going to lose $505 billion dollars in terms of trades. You just can't do it.\\n\\nMexico, $58 billion dollars.\\n\\nJapan, probably about, they don't know it yet, but about $109 billion dollars.\\n\\nEvery country we lose money with. As far as I'm concerned, we've got to reduce — we have to redo our trade deals 100 percent. I have the greatest business people in the world lined up to do it. We will make...[bell ringing]... great trade deals. [cheering]\\n\\n\",\n",
       "  '\\n'),\n",
       " (\"WALLACE: Mr. Trump, Romney also talked about your position on race, and the controversy over your failure to denounce David Duke on Sunday. You have repeatedly disavowed him since then, but I'd like to go deeper than that. What are your views on the Klu Klux Klan, and white supremacists?\\n\\n\",\n",
       "  '\\n'),\n",
       " (\"TRUMP: I totally disavow the Klu Klux Klan. I totally disavow David Duke. I've been doing it now for two weeks, this is your — you're probably about the 18th person that's asked me the question. It was very clear, that question was also talked about in the form of groups. Groups, I want to know which groups are you talking about? You have to tell me which groups?\\n\\nUltimately, he got to the Klu Klux Klan, which obviously I'm going to disavow. And, by the way, if you look on my Twitter account, almost immediately after the program they were disavowed again.\\n\\nYou know, it's amazing. When I do something on Twitter, everybody picks it up, goes all over the place. But, when I did this one nobody ever picks it up. Take a look at my Twitter account.\\n\\n\",\n",
       "  '\\n'),\n",
       " ('WALLACE: Thank you, sir.\\n\\n', '\\n'),\n",
       " ('TRUMP: Thank you. Thanks. [applause]\\n\\n', '\\n'),\n",
       " ('BAIER: Senator Rubio, three weeks ago you said, quote: \"I don\\'t do the personal attacks, primarily because it\\'s not who I am, because I think it\\'s beneath the office that I\\'m seeking but also because I don\\'t want to embarrass my kids.\"\\n\\nBut in the past week you\\'ve mocked Mr. Trump\\'s tan. You\\'ve made fun of his spelling. You called him a con artist. You suggested he wet himself backstage at the last debate, along with other vulgar jokes and jabs. So what happened?\\n\\n',\n",
       "  '\\n'),\n",
       " (\"RUBIO: Yes, you know, Bret, let me say something. This campaign for the last year Donald Trump has basically mocked everybody with personal attacks. He has done so to people that are sitting on the stage today. He has done so about people that are disabled. He has done it about every candidate in this race.\\n\\nSo if there is anyone who has ever deserved to be attacked that way, it has been Donald Trump, for the way he has treated people in the campaign.\\n\\nNow that said, I would much prefer to have a policy debate. I hope that's what we will have here tonight. Let's have a policy debate...\\n\\n\",\n",
       "  '\\n'),\n",
       " ('TRUMP: And we will.\\n\\n', '\\n'),\n",
       " (\"RUBIO: ... let's talk about Donald Trump's strategy and my strategy and Ted's strategy and John Kasich's strategy when it comes to ISIS. And on health care and on the important issues facing this country.\\n\\nBut let's be honest too about all this. The media has given these personal attacks that Donald Trump has made an incredible amount of coverage. Let's start talking again about the issues that matter to this country. I'm ready to do that starting right here right now tonight.\\n\\n\",\n",
       "  '\\n')]"
      ]
     },
     "execution_count": 42,
     "metadata": {},
     "output_type": "execute_result"
    }
   ],
   "source": [
    "# Very powerful stuff\n",
    "pattern = r'([A-Z]{4,15}:(.|\\n)+?(?=[A-Z]{4,15}:))'\n",
    "matches = re.findall(pattern, string)\n",
    "matches"
   ]
  },
  {
   "cell_type": "code",
   "execution_count": null,
   "metadata": {
    "collapsed": true
   },
   "outputs": [],
   "source": []
  }
 ],
 "metadata": {
  "kernelspec": {
   "display_name": "Python 3",
   "language": "python",
   "name": "python3"
  },
  "language_info": {
   "codemirror_mode": {
    "name": "ipython",
    "version": 3
   },
   "file_extension": ".py",
   "mimetype": "text/x-python",
   "name": "python",
   "nbconvert_exporter": "python",
   "pygments_lexer": "ipython3",
   "version": "3.5.2"
  }
 },
 "nbformat": 4,
 "nbformat_minor": 1
}
