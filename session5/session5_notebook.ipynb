{
 "cells": [
  {
   "cell_type": "markdown",
   "metadata": {},
   "source": [
    "# Session 5 Notes"
   ]
  },
  {
   "cell_type": "markdown",
   "metadata": {
    "collapsed": true
   },
   "source": [
    "## Pandas `read_html`\n",
    "\n",
    "Make sure you have the following modules installed:\n",
    "- pandas\n",
    "- html5lib\n",
    "- lxml\n",
    "- BeautifulSoup4\n",
    "\n",
    "Install all of them with:\n",
    "\n",
    "`pip install pandas html5lib lxml BeautifulSoup4`.\n"
   ]
  },
  {
   "cell_type": "code",
   "execution_count": 116,
   "metadata": {
    "collapsed": false
   },
   "outputs": [],
   "source": [
    "import pandas as pd\n",
    "import html5lib\n",
    "tables = pd.read_html(\"https://en.wikipedia.org/wiki/List_of_United_States_television_markets\")"
   ]
  },
  {
   "cell_type": "code",
   "execution_count": 5,
   "metadata": {
    "collapsed": false
   },
   "outputs": [
    {
     "data": {
      "text/plain": [
       "list"
      ]
     },
     "execution_count": 5,
     "metadata": {},
     "output_type": "execute_result"
    }
   ],
   "source": [
    "type(tables)"
   ]
  },
  {
   "cell_type": "code",
   "execution_count": 117,
   "metadata": {
    "collapsed": false
   },
   "outputs": [
    {
     "data": {
      "text/html": [
       "<div>\n",
       "<table border=\"1\" class=\"dataframe\">\n",
       "  <thead>\n",
       "    <tr style=\"text-align: right;\">\n",
       "      <th></th>\n",
       "      <th>0</th>\n",
       "      <th>1</th>\n",
       "      <th>2</th>\n",
       "      <th>3</th>\n",
       "      <th>4</th>\n",
       "      <th>5</th>\n",
       "    </tr>\n",
       "  </thead>\n",
       "  <tbody>\n",
       "    <tr>\n",
       "      <th>0</th>\n",
       "      <td>Rank</td>\n",
       "      <td>Market</td>\n",
       "      <td>State</td>\n",
       "      <td>Counties (or county-equivalents) covered</td>\n",
       "      <td>TV households (2016–17)</td>\n",
       "      <td>Major network affiliates (ABC, CBS, Fox, NBC) ...</td>\n",
       "    </tr>\n",
       "    <tr>\n",
       "      <th>1</th>\n",
       "      <td>1</td>\n",
       "      <td>New York</td>\n",
       "      <td>New York</td>\n",
       "      <td>New York: Bronx, Dutchess, Kings, Nassau, New ...</td>\n",
       "      <td>7,348,620 (6.407%)</td>\n",
       "      <td>WABC-TV (ABC), WCBS-TV (CBS) (WLNY-TV (Indepen...</td>\n",
       "    </tr>\n",
       "    <tr>\n",
       "      <th>2</th>\n",
       "      <td>2</td>\n",
       "      <td>Los Angeles</td>\n",
       "      <td>California</td>\n",
       "      <td>Inyo, Kern (Sierra Nevada), Los Angeles, Orang...</td>\n",
       "      <td>5,476,830 (4.775%)</td>\n",
       "      <td>KABC-TV (ABC), KCBS-TV (CBS) (KCAL-TV (Indepen...</td>\n",
       "    </tr>\n",
       "    <tr>\n",
       "      <th>3</th>\n",
       "      <td>3</td>\n",
       "      <td>Chicago</td>\n",
       "      <td>Illinois</td>\n",
       "      <td>Illinois: Cook, DeKalb, DuPage, Grundy, Kane, ...</td>\n",
       "      <td>3,463,060 (3.019%)</td>\n",
       "      <td>WBBM-TV (CBS), WFLD (Fox) (WPWR-TV (CW/MyNetwo...</td>\n",
       "    </tr>\n",
       "    <tr>\n",
       "      <th>4</th>\n",
       "      <td>4</td>\n",
       "      <td>Philadelphia</td>\n",
       "      <td>Pennsylvania</td>\n",
       "      <td>Pennsylvania: Berks, Bucks, Chester, Delaware,...</td>\n",
       "      <td>2,942,800 (2.566%)</td>\n",
       "      <td>KYW-TV (CBS) (WPSG (CW)), WCAU (NBC) (WWSI (Te...</td>\n",
       "    </tr>\n",
       "  </tbody>\n",
       "</table>\n",
       "</div>"
      ],
      "text/plain": [
       "      0             1             2  \\\n",
       "0  Rank        Market         State   \n",
       "1     1      New York      New York   \n",
       "2     2   Los Angeles    California   \n",
       "3     3       Chicago      Illinois   \n",
       "4     4  Philadelphia  Pennsylvania   \n",
       "\n",
       "                                                   3                        4  \\\n",
       "0           Counties (or county-equivalents) covered  TV households (2016–17)   \n",
       "1  New York: Bronx, Dutchess, Kings, Nassau, New ...       7,348,620 (6.407%)   \n",
       "2  Inyo, Kern (Sierra Nevada), Los Angeles, Orang...       5,476,830 (4.775%)   \n",
       "3  Illinois: Cook, DeKalb, DuPage, Grundy, Kane, ...       3,463,060 (3.019%)   \n",
       "4  Pennsylvania: Berks, Bucks, Chester, Delaware,...       2,942,800 (2.566%)   \n",
       "\n",
       "                                                   5  \n",
       "0  Major network affiliates (ABC, CBS, Fox, NBC) ...  \n",
       "1  WABC-TV (ABC), WCBS-TV (CBS) (WLNY-TV (Indepen...  \n",
       "2  KABC-TV (ABC), KCBS-TV (CBS) (KCAL-TV (Indepen...  \n",
       "3  WBBM-TV (CBS), WFLD (Fox) (WPWR-TV (CW/MyNetwo...  \n",
       "4  KYW-TV (CBS) (WPSG (CW)), WCAU (NBC) (WWSI (Te...  "
      ]
     },
     "execution_count": 117,
     "metadata": {},
     "output_type": "execute_result"
    }
   ],
   "source": [
    "dmas = tables[0]\n",
    "dmas.head()"
   ]
  },
  {
   "cell_type": "code",
   "execution_count": 118,
   "metadata": {
    "collapsed": false
   },
   "outputs": [],
   "source": [
    "dmas.columns = dmas.iloc[0,:]\n",
    "dmas = dmas.drop(0).reset_index(drop=True)"
   ]
  },
  {
   "cell_type": "code",
   "execution_count": 119,
   "metadata": {
    "collapsed": false
   },
   "outputs": [
    {
     "data": {
      "text/html": [
       "<div>\n",
       "<table border=\"1\" class=\"dataframe\">\n",
       "  <thead>\n",
       "    <tr style=\"text-align: right;\">\n",
       "      <th></th>\n",
       "      <th>Rank</th>\n",
       "      <th>Market</th>\n",
       "      <th>State</th>\n",
       "      <th>Counties (or county-equivalents) covered</th>\n",
       "      <th>TV households (2016–17)</th>\n",
       "      <th>Major network affiliates (ABC, CBS, Fox, NBC) Sister stations</th>\n",
       "    </tr>\n",
       "  </thead>\n",
       "  <tbody>\n",
       "    <tr>\n",
       "      <th>0</th>\n",
       "      <td>1</td>\n",
       "      <td>New York</td>\n",
       "      <td>New York</td>\n",
       "      <td>New York: Bronx, Dutchess, Kings, Nassau, New ...</td>\n",
       "      <td>7,348,620 (6.407%)</td>\n",
       "      <td>WABC-TV (ABC), WCBS-TV (CBS) (WLNY-TV (Indepen...</td>\n",
       "    </tr>\n",
       "    <tr>\n",
       "      <th>1</th>\n",
       "      <td>2</td>\n",
       "      <td>Los Angeles</td>\n",
       "      <td>California</td>\n",
       "      <td>Inyo, Kern (Sierra Nevada), Los Angeles, Orang...</td>\n",
       "      <td>5,476,830 (4.775%)</td>\n",
       "      <td>KABC-TV (ABC), KCBS-TV (CBS) (KCAL-TV (Indepen...</td>\n",
       "    </tr>\n",
       "    <tr>\n",
       "      <th>2</th>\n",
       "      <td>3</td>\n",
       "      <td>Chicago</td>\n",
       "      <td>Illinois</td>\n",
       "      <td>Illinois: Cook, DeKalb, DuPage, Grundy, Kane, ...</td>\n",
       "      <td>3,463,060 (3.019%)</td>\n",
       "      <td>WBBM-TV (CBS), WFLD (Fox) (WPWR-TV (CW/MyNetwo...</td>\n",
       "    </tr>\n",
       "    <tr>\n",
       "      <th>3</th>\n",
       "      <td>4</td>\n",
       "      <td>Philadelphia</td>\n",
       "      <td>Pennsylvania</td>\n",
       "      <td>Pennsylvania: Berks, Bucks, Chester, Delaware,...</td>\n",
       "      <td>2,942,800 (2.566%)</td>\n",
       "      <td>KYW-TV (CBS) (WPSG (CW)), WCAU (NBC) (WWSI (Te...</td>\n",
       "    </tr>\n",
       "    <tr>\n",
       "      <th>4</th>\n",
       "      <td>5</td>\n",
       "      <td>Dallas-Fort Worth</td>\n",
       "      <td>Texas</td>\n",
       "      <td>Anderson, Bosque, Collin, Comanche, Cooke, Dal...</td>\n",
       "      <td>2,713,380 (2.366%)</td>\n",
       "      <td>KDFW (Fox) (KDFI (MyNetworkTV)), KTVT (CBS) (K...</td>\n",
       "    </tr>\n",
       "  </tbody>\n",
       "</table>\n",
       "</div>"
      ],
      "text/plain": [
       "0 Rank             Market         State  \\\n",
       "0    1           New York      New York   \n",
       "1    2        Los Angeles    California   \n",
       "2    3            Chicago      Illinois   \n",
       "3    4       Philadelphia  Pennsylvania   \n",
       "4    5  Dallas-Fort Worth         Texas   \n",
       "\n",
       "0           Counties (or county-equivalents) covered TV households (2016–17)  \\\n",
       "0  New York: Bronx, Dutchess, Kings, Nassau, New ...      7,348,620 (6.407%)   \n",
       "1  Inyo, Kern (Sierra Nevada), Los Angeles, Orang...      5,476,830 (4.775%)   \n",
       "2  Illinois: Cook, DeKalb, DuPage, Grundy, Kane, ...      3,463,060 (3.019%)   \n",
       "3  Pennsylvania: Berks, Bucks, Chester, Delaware,...      2,942,800 (2.566%)   \n",
       "4  Anderson, Bosque, Collin, Comanche, Cooke, Dal...      2,713,380 (2.366%)   \n",
       "\n",
       "0 Major network affiliates (ABC, CBS, Fox, NBC) Sister stations  \n",
       "0  WABC-TV (ABC), WCBS-TV (CBS) (WLNY-TV (Indepen...             \n",
       "1  KABC-TV (ABC), KCBS-TV (CBS) (KCAL-TV (Indepen...             \n",
       "2  WBBM-TV (CBS), WFLD (Fox) (WPWR-TV (CW/MyNetwo...             \n",
       "3  KYW-TV (CBS) (WPSG (CW)), WCAU (NBC) (WWSI (Te...             \n",
       "4  KDFW (Fox) (KDFI (MyNetworkTV)), KTVT (CBS) (K...             "
      ]
     },
     "execution_count": 119,
     "metadata": {},
     "output_type": "execute_result"
    }
   ],
   "source": [
    "dmas.head()"
   ]
  },
  {
   "cell_type": "code",
   "execution_count": 19,
   "metadata": {
    "collapsed": false
   },
   "outputs": [
    {
     "data": {
      "text/plain": [
       "1                                    Los Angeles\n",
       "5                 San Francisco-Oakland-San Jose\n",
       "19                   Sacramento-Stockton-Modesto\n",
       "27                                     San Diego\n",
       "53                                Fresno-Visalia\n",
       "123    Santa Barbara-Santa Maria-San Luis Obispo\n",
       "124                             Monterey-Salinas\n",
       "125                                  Bakersfield\n",
       "131                                Chico-Redding\n",
       "145                                 Palm Springs\n",
       "194                                       Eureka\n",
       "Name: Market, dtype: object"
      ]
     },
     "execution_count": 19,
     "metadata": {},
     "output_type": "execute_result"
    }
   ],
   "source": [
    "dmas.loc[dmas.State==\"California\", \"Market\"]"
   ]
  },
  {
   "cell_type": "code",
   "execution_count": null,
   "metadata": {
    "collapsed": true
   },
   "outputs": [],
   "source": []
  },
  {
   "cell_type": "markdown",
   "metadata": {},
   "source": [
    "## Disqus Comments from The Atlantic"
   ]
  },
  {
   "cell_type": "code",
   "execution_count": 20,
   "metadata": {
    "collapsed": true
   },
   "outputs": [],
   "source": [
    "import requests\n",
    "disqus_url = \"https://disqus.com/embed/comments/?base=default&f=theatlantic&t_i=mt536010&t_u=https%3A%2F%2Fwww.theatlantic.com%2Fscience%2Farchive%2F2017%2F08%2Fadvice-for-eclipse-newbies%2F536010%2F&t_e=Advice%20for%20Eclipse%20Newbies&t_d=Advice%20for%20Eclipse%20Newbies&t_t=Advice%20for%20Eclipse%20Newbies&s_o=default\"\n",
    "article_url = \"https://www.theatlantic.com/science/archive/2017/08/advice-for-eclipse-newbies/536010/#article-comments\"\n",
    "r = requests.get(disqus_url, headers={'referer': article_url})"
   ]
  },
  {
   "cell_type": "code",
   "execution_count": 29,
   "metadata": {
    "collapsed": false
   },
   "outputs": [
    {
     "data": {
      "text/plain": [
       "True"
      ]
     },
     "execution_count": 29,
     "metadata": {},
     "output_type": "execute_result"
    }
   ],
   "source": [
    "\"Back in the early 90s\" in r.text"
   ]
  },
  {
   "cell_type": "code",
   "execution_count": 55,
   "metadata": {
    "collapsed": false
   },
   "outputs": [],
   "source": [
    "from urllib.parse import urlencode\n",
    "import re\n",
    "from collections import OrderedDict\n",
    "\n",
    "def get_disqus_url(article_url):\n",
    "    match = re.search('\\/[0-9]{6}\\/', article_url)\n",
    "    if match:\n",
    "        article_id = match.group()\n",
    "    else:\n",
    "        print(\"Could not extract article_id: {}\".format(article_url))\n",
    "        return(None)\n",
    "    params = OrderedDict([\n",
    "        (\"base\",\"default\"),\n",
    "        (\"f\",\"theatlantic\"),\n",
    "        (\"t_i\",\"mt{}\".format(article_id)),\n",
    "        (\"t_u\",article_url),\n",
    "        (\"s_o\",\"default\")\n",
    "    ])\n",
    "    query = urlencode(params)\n",
    "    return(\"https://disqus.com/embed/comments/?{}\".format(query))"
   ]
  },
  {
   "cell_type": "code",
   "execution_count": 56,
   "metadata": {
    "collapsed": false
   },
   "outputs": [
    {
     "data": {
      "text/plain": [
       "'https://disqus.com/embed/comments/?base=default&f=theatlantic&t_i=mt%2F536181%2F&t_u=https%3A%2F%2Fwww.theatlantic.com%2Fpolitics%2Farchive%2F2017%2F%25E2%2580%25A6mmon-error-in-coverage-of-the-google-memo%2F536181%2F&s_o=default'"
      ]
     },
     "execution_count": 56,
     "metadata": {},
     "output_type": "execute_result"
    }
   ],
   "source": [
    "get_disqus_url(\"https://www.theatlantic.com/politics/archive/2017/%E2%80%A6mmon-error-in-coverage-of-the-google-memo/536181/\")"
   ]
  },
  {
   "cell_type": "code",
   "execution_count": null,
   "metadata": {
    "collapsed": false
   },
   "outputs": [],
   "source": []
  },
  {
   "cell_type": "markdown",
   "metadata": {},
   "source": [
    "## PyQuery Basics"
   ]
  },
  {
   "cell_type": "code",
   "execution_count": 85,
   "metadata": {
    "collapsed": false
   },
   "outputs": [],
   "source": [
    "import requests\n",
    "from pyquery import PyQuery as PQ\n",
    "\n",
    "url = \"https://arstechnica.com/tech-policy/2017/07/linkedin-its-illegal-to-scrape-our-website-without-permission/\"\n",
    "\n",
    "\n",
    "# Initialize the PyQuery object \n",
    "r = requests.get(url)\n",
    "raw_html = r.text\n",
    "pq = PQ(raw_html)\n",
    "\n",
    "# This method downloads the HTML directly from the URL:\n",
    "pq = PQ(url=url)"
   ]
  },
  {
   "cell_type": "code",
   "execution_count": 86,
   "metadata": {
    "collapsed": false
   },
   "outputs": [
    {
     "data": {
      "text/plain": [
       "[<a#header-logo>, <a.dropdown-toggle>, <a.nav-search-close>, <a>, <a>, <a>, <a.active>, <a>, <a>, <a>, <a.dropdown-toggle>, <a>, <a>, <a>, <a>, <a>, <a>, <a>, <a>, <a>, <a>, <a>, <a>, <a>, <a>, <a.active>, <a>, <a>, <a>, <a>, <a>, <a>, <a>, <a>, <a>, <a.dropdown-toggle>, <a>, <a.signup-btn.button.button-wide>, <a.dropdown-toggle>, <a>, <a>, <a.caption-link>, <a.comment-count.icon-comment-bubble-down>, <a.social-icon.share-facebook>, <a.social-icon.share-twitter>, <a.social-icon.share-reddit>, <a.social-icon.share-gplus>, <a>, <a>, <a>, <a>, <a>, <a>, <a.author-photo>, <a.author-name>, <a>, <a>, <a.comment-count.icon-comment-bubble-down>, <a.social-icon.share-facebook>, <a.social-icon.share-twitter>, <a.social-icon.share-reddit>, <a.social-icon.share-gplus>, <a>, <a.vote_login>, <a>, <a>, <a>, <a>, <a>, <a>, <a>, <a>, <a>, <a>, <a>, <a.icon.icon-logo-cn-us>, <a>, <a>, <a>, <a>, <a>]"
      ]
     },
     "execution_count": 86,
     "metadata": {},
     "output_type": "execute_result"
    }
   ],
   "source": [
    "# Links all the a tags (i.e., link tags):\n",
    "pq(\"a\")"
   ]
  },
  {
   "cell_type": "code",
   "execution_count": 90,
   "metadata": {
    "collapsed": false
   },
   "outputs": [
    {
     "data": {
      "text/plain": [
       "['https://arstechnica.com',\n",
       " '/search/',\n",
       " None,\n",
       " '/information-technology/',\n",
       " '/gadgets/',\n",
       " '/science/',\n",
       " '/tech-policy/',\n",
       " '/cars/',\n",
       " '/gaming/',\n",
       " '/civis/']"
      ]
     },
     "execution_count": 90,
     "metadata": {},
     "output_type": "execute_result"
    }
   ],
   "source": [
    "# Get all the href values from the link tags:\n",
    "hrefs = []\n",
    "for a in pq(\"a\"):\n",
    "    href = pq(a).attr(\"href\")\n",
    "    hrefs.append(href)\n",
    "hrefs[0:10]"
   ]
  },
  {
   "cell_type": "code",
   "execution_count": 91,
   "metadata": {
    "collapsed": false
   },
   "outputs": [
    {
     "data": {
      "text/plain": [
       "['https://arstechnica.com',\n",
       " 'https://arstechnica.com/search/',\n",
       " 'https://arstechnica.com/information-technology/',\n",
       " 'https://arstechnica.com/gadgets/',\n",
       " 'https://arstechnica.com/science/',\n",
       " 'https://arstechnica.com/tech-policy/',\n",
       " 'https://arstechnica.com/cars/',\n",
       " 'https://arstechnica.com/gaming/',\n",
       " 'https://arstechnica.com/civis/']"
      ]
     },
     "execution_count": 91,
     "metadata": {},
     "output_type": "execute_result"
    }
   ],
   "source": [
    "# Get full links\n",
    "hrefs = []\n",
    "base_url = \"https://arstechnica.com\"\n",
    "for a in pq(\"a\")[0:10]:\n",
    "    href = pq(a).attr(\"href\")\n",
    "    if not href:\n",
    "        continue\n",
    "    if href.startswith(\"/\"):\n",
    "        href = base_url + href\n",
    "        hrefs.append(href)\n",
    "    elif href.startswith(\"http\"):\n",
    "        hrefs.append(href)\n",
    "    else:\n",
    "        continue\n",
    "hrefs[0:10]"
   ]
  },
  {
   "cell_type": "code",
   "execution_count": 92,
   "metadata": {
    "collapsed": false
   },
   "outputs": [
    {
     "data": {
      "text/plain": [
       "[('\\n      ', 'https://arstechnica.com'),\n",
       " ('\\n          ', 'https://arstechnica.com/search/'),\n",
       " ('Biz & IT', 'https://arstechnica.com/information-technology/'),\n",
       " ('Tech', 'https://arstechnica.com/gadgets/'),\n",
       " ('Science', 'https://arstechnica.com/science/'),\n",
       " ('Policy', 'https://arstechnica.com/tech-policy/'),\n",
       " ('Cars', 'https://arstechnica.com/cars/'),\n",
       " ('Gaming & Culture', 'https://arstechnica.com/gaming/'),\n",
       " ('Forums', 'https://arstechnica.com/civis/'),\n",
       " ('Videos', 'http://video.arstechnica.com/')]"
      ]
     },
     "execution_count": 92,
     "metadata": {},
     "output_type": "execute_result"
    }
   ],
   "source": [
    "# Get full links and link text\n",
    "links = []\n",
    "base_url = \"https://arstechnica.com\"\n",
    "for a in pq(\"a\"):\n",
    "    href = pq(a).attr(\"href\")\n",
    "    if not href:\n",
    "        continue\n",
    "    if href.startswith(\"/\"):\n",
    "        href = base_url + href\n",
    "    elif not href.startswith(\"http\"):\n",
    "        continue\n",
    "    links.append((a.text, href))\n",
    "\n",
    "links[0:10]\n"
   ]
  },
  {
   "cell_type": "markdown",
   "metadata": {},
   "source": [
    "### Quirky things about PyQuery\n",
    "\n",
    "When you your selector matches more than one element, you will be returned a list of elements. To get a specific element out of this list, you just need to iterate (i.e., using a for loop).\n",
    "\n",
    "When you have selected a **specific** element (i.e., not a list of elements), you can call `.text` to get out the text associated with that specific tag. This will only give you the *top level* text associated with that tag.\n",
    "\n",
    "**However!** If you want text that may be embedded within that tag (i.e., inside another child tag), you will want to call the full PyQuery `.text()` extraction function. \n",
    "\n",
    "To do this, pass your extracted element back into the PyQuery function, and use `.text()`. Example below:"
   ]
  },
  {
   "cell_type": "code",
   "execution_count": 99,
   "metadata": {
    "collapsed": false
   },
   "outputs": [
    {
     "data": {
      "text/plain": [
       "<Element p at 0x7f50c8611688>"
      ]
     },
     "execution_count": 99,
     "metadata": {},
     "output_type": "execute_result"
    }
   ],
   "source": [
    "first_para = pq(\"div.article-content.post-page > p\")[0]\n",
    "first_para"
   ]
  },
  {
   "cell_type": "code",
   "execution_count": 103,
   "metadata": {
    "collapsed": false
   },
   "outputs": [
    {
     "name": "stdout",
     "output_type": "stream",
     "text": [
      "A small company called hiQ is locked in a high-stakes battle over \n",
      "\n",
      "\n",
      "A small company called hiQ is locked in a high-stakes battle over Web scraping with LinkedIn. It's a fight that could determine whether an anti-hacking law can be used to curtail the use of scraping tools across the Web.\n"
     ]
    }
   ],
   "source": [
    "print(first_para.text)\n",
    "\n",
    "print(\"\\n\")\n",
    "\n",
    "print(PQ(first_para).text())"
   ]
  }
 ],
 "metadata": {
  "kernelspec": {
   "display_name": "Python 3",
   "language": "python",
   "name": "python3"
  },
  "language_info": {
   "codemirror_mode": {
    "name": "ipython",
    "version": 3
   },
   "file_extension": ".py",
   "mimetype": "text/x-python",
   "name": "python",
   "nbconvert_exporter": "python",
   "pygments_lexer": "ipython3",
   "version": "3.5.2"
  }
 },
 "nbformat": 4,
 "nbformat_minor": 1
}
